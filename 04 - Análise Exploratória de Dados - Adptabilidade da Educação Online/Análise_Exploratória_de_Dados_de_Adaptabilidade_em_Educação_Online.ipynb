{
  "nbformat": 4,
  "nbformat_minor": 0,
  "metadata": {
    "colab": {
      "name": "Análise Exploratória de Dados de Adaptabilidade em Educação Online.ipynb",
      "provenance": []
    },
    "kernelspec": {
      "name": "python3",
      "display_name": "Python 3"
    },
    "language_info": {
      "name": "python"
    }
  },
  "cells": [
    {
      "cell_type": "markdown",
      "source": [
        "# Análise Exploratória de Dados de Adaptabilidade em Educação Online.\n"
      ],
      "metadata": {
        "id": "aeURuyQwPYFb"
      }
    },
    {
      "cell_type": "markdown",
      "source": [
        "# 1. Contexto:\n",
        "\n",
        "Educação Online foi uma das principais adpatações que cresceu bastante, principalmente com a COVID-19. \n",
        "\n",
        "Então para uso de aplicar meus conhecimentos do curso, escolhi um Data-se no Kaggle que trata-se da adptabilidade dos alunos em educação online em Bangladesh.\n",
        "\n",
        "Possui o artigo de onde origina o dado e fala também da análises que foram realizaram.\n",
        "\n",
        "link do artigo: https://www.researchgate.net/publication/355891881_Students'_Adaptability_Level_Prediction_in_Online_Education_using_Machine_Learning_Approaches\n",
        "\n",
        "link do data-set no kaggle:\n",
        "https://www.kaggle.com/datasets/mdmahmudulhasansuzan/students-adaptability-level-in-online-education?datasetId=2088925\n",
        "\n",
        "# Sobre o Data-set:\n",
        "\n",
        "The target feature is: **Adpativity Level**\n",
        "\n",
        "The feature sets are: \n",
        "1. Gender\n",
        "2. Age\n",
        "3. Education Level\n",
        "4. IT Student\n",
        "5. Location in Town\n",
        "6. Load-shedding\n",
        "7. Financial Condition\n",
        "8. Intenet Type\n",
        "9. Network Type\n",
        "10. Class Duration\n",
        "11. Self LMS\n",
        "12. Device\n",
        "\n",
        "\n",
        "\n"
      ],
      "metadata": {
        "id": "R2feSfCJQzK7"
      }
    },
    {
      "cell_type": "markdown",
      "source": [
        "# 2. Pacotes e Bibliotecas\n"
      ],
      "metadata": {
        "id": "KGwqVNjUSe6w"
      }
    },
    {
      "cell_type": "code",
      "execution_count": null,
      "metadata": {
        "id": "h-0Tkz6UPWbP"
      },
      "outputs": [],
      "source": [
        "# Pacotes ativos do python:\n",
        "import csv\n",
        "\n",
        "#Pacotes de terceiros:\n",
        "import pandas as pd\n",
        "import seaborn as sns\n",
        "import matplotlib.pyplot as plt\n",
        "import numpy as np"
      ]
    },
    {
      "cell_type": "markdown",
      "source": [
        "# 3. Exploração de dados"
      ],
      "metadata": {
        "id": "625xsLzJUDNy"
      }
    },
    {
      "cell_type": "code",
      "source": [
        "# - coleta de dados;\n",
        "\n",
        "students_df= pd.read_csv('students_adaptability_level_online_education.csv')\n",
        "\n",
        "# - wrangling da estrutura;\n",
        "students_df.shape\n",
        "students_df = students_df.sort_values(by=['Age'])\n",
        "students_df.head()\n",
        "\n",
        "#Selecionando as colunas que quero analisar e mudando seu tipo para Categóricas \n",
        "cols = ['Gender','Age', 'Education Level','Institution Type','Financial Condition', 'Internet Type','Network Type','Class Duration','Device']\n",
        "students_df= pd.read_csv('students_adaptability_level_online_education.csv', usecols=cols,  dtype= {'Gender' : 'category','Age':'category' , 'Education Level': 'category', 'Institution Type':'category','Financial Condition': 'category','Network Type': 'category','Class Duration': 'category','Device':'category', 'Internet Type' : 'category'})\n",
        "students_df = students_df.sort_values(by=['Age'])\n",
        "\n",
        "# - wrangling da estrutura;\n",
        "# Atributos Categóricos\n",
        "students_df.select_dtypes(\"category\").describe().transpose()\n",
        "\n"
      ],
      "metadata": {
        "id": "NPeFV0aNUIUj"
      },
      "execution_count": null,
      "outputs": []
    },
    {
      "cell_type": "markdown",
      "source": [
        "# 4. Manipulação"
      ],
      "metadata": {
        "id": "vrBRA1R1VJaY"
      }
    },
    {
      "cell_type": "code",
      "source": [
        "# #Criar código de categorias para as colunas\n",
        "students_df['Gender Nº'] = students_df['Gender'].cat.codes\n",
        "students_df['Age Nº'] = students_df['Age'].cat.codes\n",
        "students_df['Education Level Nº'] = students_df['Education Level'].cat.codes\n",
        "students_df['Institution Type Nº'] = students_df['Institution Type'].cat.codes\n",
        "students_df['Financial Condition Nº'] = students_df['Financial Condition'].cat.codes\n",
        "students_df['Internet Type Nº'] = students_df['Internet Type'].cat.codes\n",
        "students_df['Network Type Nº'] = students_df['Network Type'].cat.codes\n",
        "students_df['Class Duration Nº'] = students_df['Class Duration'].cat.codes\n",
        "students_df['Device Nº'] = students_df['Device'].cat.codes\n",
        "\n",
        "#agrupar para realizar as análises desejadas\n",
        "#1º Olhar a quantidade de cada gêreno por Condição Financeira\n",
        "fd_gender = students_df[['Gender', 'Gender Nº','Financial Condition']].groupby(['Financial Condition','Gender']).agg('count').reset_index()\n",
        "fd_gender"
      ],
      "metadata": {
        "id": "6L2DPa1-VPNk"
      },
      "execution_count": null,
      "outputs": []
    },
    {
      "cell_type": "markdown",
      "source": [
        "# 5. Visualização"
      ],
      "metadata": {
        "id": "Q2Sv9cTQVQs6"
      }
    },
    {
      "cell_type": "code",
      "source": [
        "# 1º - Análise de Gênero por Condição Financiera\n",
        "grafico = sns.barplot(data=fd_gender, x='Financial Condition', y='Gender Nº', hue= 'Gender',palette= 'mako')\n",
        "\n",
        "grafico.set_title('Análise de Gênero por Condição Financeira')\n",
        "grafico.legend(title='Gênero',bbox_to_anchor=(1.20,1), loc = 0, borderaxespad=0.)\n",
        "for container in grafico.containers:\n",
        "  grafico.bar_label(container)"
      ],
      "metadata": {
        "id": "d4cRhaSRVQZO"
      },
      "execution_count": null,
      "outputs": []
    },
    {
      "cell_type": "code",
      "source": [
        "#Análise de Gêreno por Idade\n",
        "\n",
        "grafico = sns.barplot(data=id_gender, x='Age', y='Age Nº', hue= 'Gender',palette='mako')\n",
        "grafico.set_title('Análise Gênero por Idade')\n",
        "grafico.legend(title='Gênero',bbox_to_anchor=(1.20,1), loc = 0, borderaxespad=0.)\n",
        "for container in grafico.containers:\n",
        "  grafico.bar_label(container)\n"
      ],
      "metadata": {
        "id": "EF0OkBQZVgO5"
      },
      "execution_count": null,
      "outputs": []
    },
    {
      "cell_type": "code",
      "source": [
        "# Análise Condição Financeira por Tipo de Internet\n",
        "grafico = sns.barplot(data=Fc_Ti_df, x='Financial Condition', y='Network Type Nº', hue= 'Network Type',palette='mako')\n",
        "grafico.set_title('Análise Condição Financeira por Tipo de Internet')\n",
        "grafico.legend(title='Tipo de Internet',bbox_to_anchor=(1.30,1), loc = 0, borderaxespad=0.)\n",
        "for container in grafico.containers:\n",
        "  grafico.bar_label(container)"
      ],
      "metadata": {
        "id": "ng5jVj4XVb-e"
      },
      "execution_count": null,
      "outputs": []
    },
    {
      "cell_type": "markdown",
      "source": [
        "# 6. Insites"
      ],
      "metadata": {
        "id": "T1zLge6pWNTU"
      }
    },
    {
      "cell_type": "markdown",
      "source": [
        "**Insite 1**: Gênero masculino é maior em todas as categorias, porém, a grande maioria da distribuição dos Gêneros Femininos e Masculinos se concentra na classe \"MID\"."
      ],
      "metadata": {
        "id": "hbUBN2GaVgpY"
      }
    },
    {
      "cell_type": "markdown",
      "source": [
        "**Insite 2** : Distribuição dos Gêneros pelas idades, percebos que do Gêreno \"Girl\" se concentra entre 16-20 enquanto \"Boy\" entre 21-25."
      ],
      "metadata": {
        "id": "iXlA_ci3VsXO"
      }
    },
    {
      "cell_type": "markdown",
      "source": [
        "**Inside 3**: Interessante notar que a classe Mid(Média), é que mais concentra a quantidade de usuários de 4G, claro que observando a quantidade de dados, grande parte dos alunos são de classe média.\n"
      ],
      "metadata": {
        "id": "WrPOi3RCWIHW"
      }
    }
  ]
}