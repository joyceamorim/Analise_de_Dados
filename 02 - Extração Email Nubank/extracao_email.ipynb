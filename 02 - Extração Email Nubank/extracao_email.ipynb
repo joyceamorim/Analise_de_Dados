{
 "cells": [
  {
   "cell_type": "markdown",
   "metadata": {},
   "source": [
    "Extração de Email do Site Nubank\n",
    "\n",
    "Foi copiado e colado para um arquivo no formato TXT as informações do link https://nubank.com.br/contato/. O objetivo é ler esse arquivo e extrair os e-mail que contem nesse arquivo. "
   ]
  },
  {
   "cell_type": "code",
   "execution_count": null,
   "metadata": {},
   "outputs": [],
   "source": [
    "# Código utilizado para realizar a extração\n",
    "\n",
    "import re\n",
    "\n",
    "with open(file='D:\\Curso EBAC\\Leitura de Arquivos\\Extrair_Email_Regex/nubank.txt', mode= 'r', encoding= 'utf8') as arquivo:\n",
    "    texto = arquivo.read()\n",
    "\n",
    "emails_extraidos = re.findall('\\S+@\\S+', texto)\n",
    "print(emails_extraidos)"
   ]
  },
  {
   "cell_type": "markdown",
   "metadata": {},
   "source": [
    "Importando as infomaçõe extraídas para um arquivo CSV"
   ]
  },
  {
   "cell_type": "code",
   "execution_count": null,
   "metadata": {},
   "outputs": [],
   "source": [
    "import csv\n",
    "\n",
    "with open(file='D:\\Curso EBAC\\Leitura de Arquivos\\Extrair_Email_Regex/email_nubank.csv', mode='w', encoding= 'utf8') as arquivo:\n",
    "    escritor_csv = csv.writer(arquivo, delimiter=',')\n",
    "    escritor_csv.writerow(list(map(lambda email_extraido: [email_extraido], emails_extraidos)))"
   ]
  }
 ],
 "metadata": {
  "language_info": {
   "name": "python"
  },
  "orig_nbformat": 4
 },
 "nbformat": 4,
 "nbformat_minor": 2
}
